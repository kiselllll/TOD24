{
  "cells": [
    {
      "cell_type": "markdown",
      "metadata": {
        "id": "43FwGbzxRsE4"
      },
      "source": [
        "# Numpy"
      ]
    },
    {
      "cell_type": "markdown",
      "metadata": {
        "id": "tXDfPRZuRsE-"
      },
      "source": [
        "Материалы:\n",
        "* Макрушин С.В. \"Лекция 1: Библиотека Numpy\"\n",
        "* https://numpy.org/doc/stable/user/index.html\n",
        "* https://numpy.org/doc/stable/reference/index.html"
      ]
    },
    {
      "cell_type": "markdown",
      "metadata": {
        "id": "g-7O6VMZRsFA"
      },
      "source": [
        "## Задачи для совместного разбора"
      ]
    },
    {
      "cell_type": "markdown",
      "metadata": {
        "id": "5sNe6CvlRsFB"
      },
      "source": [
        "1. Сгенерировать двухмерный массив `arr` размерности (4, 7), состоящий из случайных действительных чисел, равномерно распределенных в диапазоне от 0 до 20. Нормализовать значения массива с помощью преобразования вида  $𝑎𝑥+𝑏$  так, что после нормализации максимальный элемент масcива будет равен 1.0, минимальный 0.0"
      ]
    },
    {
      "cell_type": "code",
      "execution_count": null,
      "metadata": {
        "colab": {
          "base_uri": "https://localhost:8080/"
        },
        "id": "qzmFaAJ5RsFC",
        "outputId": "bfff376c-0ed7-4960-f7a3-c57c28468ccd"
      },
      "outputs": [
        {
          "output_type": "stream",
          "name": "stdout",
          "text": [
            "[[ 6.26305526 10.84143584 13.19475978 18.93684549 18.65076439  0.11539564\n",
            "  13.7464468 ]\n",
            " [17.44449453 15.51759372 17.65517374 14.74377823  1.03337353  7.43576909\n",
            "  10.93750983]\n",
            " [10.45554536  7.44542978 17.30446943  7.77602084 17.85833418 14.26982006\n",
            "  11.42612368]\n",
            " [11.58603808  2.00764862  3.62731765  0.30748573 16.6739211  17.19394157\n",
            "  11.31189471]]\n",
            " \n",
            "[[0.3266305  0.56988384 0.69491799 1.         0.98480026 0.\n",
            "  0.7242296 ]\n",
            " [0.9207101  0.81833218 0.93190367 0.77721869 0.04877296 0.38893781\n",
            "  0.57498834]\n",
            " [0.54938115 0.38945109 0.91327044 0.40701568 0.94269776 0.75203688\n",
            "  0.60094882]\n",
            " [0.60944521 0.10053705 0.18659147 0.01020591 0.87976886 0.907398\n",
            "  0.59487973]]\n"
          ]
        }
      ],
      "source": [
        "import numpy as np\n",
        "\n",
        "arr = np.random.uniform(0, 20, (4, 7))\n",
        "normalized_arr = (arr - arr.min()) / (arr.max() - arr.min())\n",
        "\n",
        "print(arr)\n",
        "print(' ')\n",
        "print(normalized_arr)"
      ]
    },
    {
      "cell_type": "markdown",
      "metadata": {
        "id": "J102hNRTRsFC"
      },
      "source": [
        "2. Создать матрицу 8 на 10 из случайных целых (используя модуль `numpy.random`) чисел из диапозона от 0 до 10 и найти в ней строку (ее индекс и вывести саму строку), в которой сумма значений минимальна."
      ]
    },
    {
      "cell_type": "code",
      "source": [
        "arr1 = np.random.randint(0, 10, (8, 10))\n",
        "print(arr1)\n",
        "\n",
        "mini=1000\n",
        "ind=0\n",
        "a=[sum(i) for i in arr1]\n",
        "\n",
        "for j in range(len(a)):\n",
        "  if a[j]<mini:\n",
        "    mini = a[j]\n",
        "    ind = j\n",
        "\n",
        "print('строка:', arr1[ind])\n",
        "print('сумма:', mini, 'индекс строки:', ind+1)"
      ],
      "metadata": {
        "colab": {
          "base_uri": "https://localhost:8080/"
        },
        "id": "LNRz7AZ6X_7K",
        "outputId": "9582ab29-6f4e-4fa8-b515-b6dfbc5ca55b"
      },
      "execution_count": null,
      "outputs": [
        {
          "output_type": "stream",
          "name": "stdout",
          "text": [
            "[[4 6 2 2 8 8 3 8 7 8]\n",
            " [0 0 7 0 5 5 6 8 3 2]\n",
            " [2 7 4 2 4 9 0 9 7 8]\n",
            " [8 7 7 6 8 4 5 1 0 3]\n",
            " [5 7 6 9 8 4 3 9 3 6]\n",
            " [7 8 9 9 5 7 9 6 2 2]\n",
            " [5 5 9 9 9 0 0 8 9 5]\n",
            " [7 2 5 4 7 4 0 8 4 0]]\n",
            "строка: [0 0 7 0 5 5 6 8 3 2]\n",
            "сумма: 36 индекс строки: 2\n"
          ]
        }
      ]
    },
    {
      "cell_type": "markdown",
      "metadata": {
        "id": "y0poXGXARsFD"
      },
      "source": [
        "3. Найти евклидово расстояние между двумя одномерными векторами одинаковой размерности."
      ]
    },
    {
      "cell_type": "code",
      "source": [
        "import math\n",
        "\n",
        "arr2 = np.arange(127, 132).reshape(5, 1)\n",
        "arr3 = np.arange(20, 25).reshape(5, 1)\n",
        "\n",
        "evrast = math.dist(arr2, arr3)\n",
        "print(evrast)"
      ],
      "metadata": {
        "colab": {
          "base_uri": "https://localhost:8080/"
        },
        "id": "iDWZaI2fagB5",
        "outputId": "0dd9e995-6b3b-4862-c467-4b1b3ab571fb"
      },
      "execution_count": null,
      "outputs": [
        {
          "output_type": "stream",
          "name": "stdout",
          "text": [
            "239.25927359247748\n"
          ]
        }
      ]
    },
    {
      "cell_type": "markdown",
      "metadata": {
        "id": "z6s_fKReRsFD"
      },
      "source": [
        "4. Решить матричное уравнение `A*X*B=-C` - найти матрицу `X`. Где `A = [[-1, 2, 4], [-3, 1, 2], [-3, 0, 1]]`, `B=[[3, -1], [2, 1]]`, `C=[[7, 21], [11, 8], [8, 4]]`."
      ]
    },
    {
      "cell_type": "code",
      "source": [
        "a = np.array([[-1, 2, 4], [-3, 1, 2], [-3, 0, 1]])\n",
        "b = np.array([[3, -1], [2, 1]])\n",
        "c = np.array([[7, 21], [11, 8], [8, 4]])\n",
        "minus_c = c * (-1)\n",
        "\n",
        "a_inverse = np.linalg.inv(a)\n",
        "b_inverse = np.linalg.inv(b)\n",
        "x = np.dot(a_inverse, minus_c)\n",
        "x = np.dot(x, b_inverse)\n",
        "\n",
        "print(x)"
      ],
      "metadata": {
        "colab": {
          "base_uri": "https://localhost:8080/"
        },
        "id": "p5gQ9usPd5cn",
        "outputId": "d1b10f8c-75e7-467f-ca34-4e20a357b933"
      },
      "execution_count": null,
      "outputs": [
        {
          "output_type": "stream",
          "name": "stdout",
          "text": [
            "[[ 1.00000000e+00  5.32907052e-16]\n",
            " [-2.00000000e+00  1.00000000e+00]\n",
            " [ 3.00000000e+00 -4.00000000e+00]]\n"
          ]
        }
      ]
    },
    {
      "cell_type": "markdown",
      "metadata": {
        "id": "c7IUP1c2RsFE"
      },
      "source": [
        "## Лабораторная работа №1"
      ]
    },
    {
      "cell_type": "markdown",
      "metadata": {
        "id": "ITyeYFwZRsFE"
      },
      "source": [
        "Замечание: при решении данных задач не подразумевается использования циклов или генераторов Python, если в задании не сказано обратного. Решение должно опираться на использования функционала библиотеки `numpy`."
      ]
    },
    {
      "cell_type": "markdown",
      "metadata": {
        "id": "oPAvwKFRRsFE"
      },
      "source": [
        "1. Файл `minutes_n_ingredients.csv` содержит информацию об идентификаторе рецепта, времени его выполнения в минутах и количестве необходимых ингредиентов. Считайте данные из этого файла в виде массива `numpy` типа `int32`, используя `np.loadtxt`. Выведите на экран первые 5 строк массива."
      ]
    },
    {
      "cell_type": "code",
      "source": [
        "import numpy as np\n",
        "import pandas as pd\n",
        "\n",
        "data = pd.read_csv('minutes_n_ingredients.csv', skiprows=1, header=None)\n",
        "\n",
        "numpy_array = np.array(data)\n",
        "\n",
        "print(numpy_array[:5])"
      ],
      "metadata": {
        "id": "pbpFqxcqmPoX",
        "colab": {
          "base_uri": "https://localhost:8080/"
        },
        "outputId": "e731f28b-f153-493a-b601-08ed9403bf8f"
      },
      "execution_count": null,
      "outputs": [
        {
          "output_type": "stream",
          "name": "stdout",
          "text": [
            "[[127244     60     16]\n",
            " [ 23891     25      7]\n",
            " [ 94746     10      6]\n",
            " [ 67660      5      6]\n",
            " [157911     60     14]]\n"
          ]
        }
      ]
    },
    {
      "cell_type": "code",
      "source": [
        "fille = (np.loadtxt('minutes_n_ingredients.csv', dtype=np.int32, delimiter=',', skiprows=1))\n",
        "print(fille [:5])"
      ],
      "metadata": {
        "colab": {
          "base_uri": "https://localhost:8080/"
        },
        "id": "7952YstycIto",
        "outputId": "68b46365-880f-4aa2-9b92-380b1aa4d7b5"
      },
      "execution_count": null,
      "outputs": [
        {
          "output_type": "stream",
          "name": "stdout",
          "text": [
            "[[127244     60     16]\n",
            " [ 23891     25      7]\n",
            " [ 94746     10      6]\n",
            " [ 67660      5      6]\n",
            " [157911     60     14]]\n"
          ]
        }
      ]
    },
    {
      "cell_type": "markdown",
      "metadata": {
        "id": "WWNGhg5lRsFE"
      },
      "source": [
        "2. Вычислите среднее значение, минимум, максимум и медиану по каждому из столбцов, кроме первого."
      ]
    },
    {
      "cell_type": "code",
      "source": [
        "print('1 столбец:\\n')\n",
        "print(np.mean(fille[:, 1]))\n",
        "print(np.min(fille[:, 1]))\n",
        "print(np.max(fille[:, 1]))\n",
        "print(np.median(fille[:, 1]))\n",
        "print('\\n2 столбец:\\n')\n",
        "print(np.mean(fille[:, 2]))\n",
        "print(np.min(fille[:, 2]))\n",
        "print(np.max(fille[:, 2]))\n",
        "print(np.median(fille[:, 2]))"
      ],
      "metadata": {
        "colab": {
          "base_uri": "https://localhost:8080/"
        },
        "id": "e_3Z5SFHdgHI",
        "outputId": "da7cb898-384c-433e-e1cd-c0f7883df6c1"
      },
      "execution_count": null,
      "outputs": [
        {
          "output_type": "stream",
          "name": "stdout",
          "text": [
            "1 столбец:\n",
            "\n",
            "21601.00169\n",
            "0\n",
            "2147483647\n",
            "40.0\n",
            "\n",
            "2 столбец:\n",
            "\n",
            "9.05528\n",
            "1\n",
            "39\n",
            "9.0\n"
          ]
        }
      ]
    },
    {
      "cell_type": "markdown",
      "metadata": {
        "id": "BcN7YaamRsFF"
      },
      "source": [
        "3. Ограничьте сверху значения продолжительности выполнения рецепта значением квантиля $q_{0.75}$."
      ]
    },
    {
      "cell_type": "code",
      "source": [
        "print(np.quantile(fille[:, 1], .75))"
      ],
      "metadata": {
        "colab": {
          "base_uri": "https://localhost:8080/"
        },
        "id": "kJgGSPOEfPc9",
        "outputId": "00f8f597-75f0-46ff-caea-1a7b76b64e27"
      },
      "execution_count": null,
      "outputs": [
        {
          "output_type": "stream",
          "name": "stdout",
          "text": [
            "65.0\n"
          ]
        }
      ]
    },
    {
      "cell_type": "markdown",
      "metadata": {
        "id": "uF-hsPKbRsFF"
      },
      "source": [
        "4. Посчитайте, для скольких рецептов указана продолжительность, равная нулю. Замените для таких строк значение в данном столбце на 1."
      ]
    },
    {
      "cell_type": "code",
      "source": [
        "ze_rose = np.count_nonzero(fille[:, 1] == 0)\n",
        "fille[:, 1] = np.where(fille[:, 1] == 0, 1, fille[:, 1])\n",
        "#print()\n",
        "print(ze_rose)"
      ],
      "metadata": {
        "colab": {
          "base_uri": "https://localhost:8080/"
        },
        "id": "S3tEhRypgQ-P",
        "outputId": "3758689f-a36d-416f-a10d-5a7ade6ae2d4"
      },
      "execution_count": null,
      "outputs": [
        {
          "output_type": "stream",
          "name": "stdout",
          "text": [
            "479\n"
          ]
        }
      ]
    },
    {
      "cell_type": "markdown",
      "metadata": {
        "id": "8iDQUjzpRsFF"
      },
      "source": [
        "5. Посчитайте, сколько уникальных рецептов находится в датасете."
      ]
    },
    {
      "cell_type": "code",
      "source": [
        "len(np.unique(fille[:, 0]))"
      ],
      "metadata": {
        "colab": {
          "base_uri": "https://localhost:8080/"
        },
        "id": "wADi6lCfhSYO",
        "outputId": "8e0e31d5-f8e7-4d68-d741-74de872ba54d"
      },
      "execution_count": null,
      "outputs": [
        {
          "output_type": "execute_result",
          "data": {
            "text/plain": [
              "100000"
            ]
          },
          "metadata": {},
          "execution_count": 27
        }
      ]
    },
    {
      "cell_type": "markdown",
      "metadata": {
        "id": "W-b-Zk-uRsFF"
      },
      "source": [
        "6. Сколько и каких различных значений кол-ва ингредиентов присутвует в рецептах из датасета?"
      ]
    },
    {
      "cell_type": "code",
      "source": [
        "print(len(set(fille[:, 2])))"
      ],
      "metadata": {
        "colab": {
          "base_uri": "https://localhost:8080/"
        },
        "id": "yUsUiLv4jV6t",
        "outputId": "d9517355-a6f1-45cd-e707-9b36cd71d852"
      },
      "execution_count": null,
      "outputs": [
        {
          "output_type": "stream",
          "name": "stdout",
          "text": [
            "37\n"
          ]
        }
      ]
    },
    {
      "cell_type": "code",
      "source": [
        "d6, count = np.unique(fille[:, 2], return_counts=True)\n",
        "for i, j in zip(d6, count):\n",
        "  print(f'Кол-во ингридиентов {i} встретилось {j} раз')"
      ],
      "metadata": {
        "id": "yR0pPftClVfT"
      },
      "execution_count": null,
      "outputs": []
    },
    {
      "cell_type": "markdown",
      "metadata": {
        "id": "J7DeXSPIRsFF"
      },
      "source": [
        "7. Создайте версию массива, содержащую информацию только о рецептах, состоящих не более чем из 5 ингредиентов."
      ]
    },
    {
      "cell_type": "code",
      "source": [
        "only_five = fille[np.where(fille[:, 2]<=5)]\n",
        "only_five"
      ],
      "metadata": {
        "colab": {
          "base_uri": "https://localhost:8080/"
        },
        "id": "6whElyOBkjUR",
        "outputId": "ec49c798-31fd-4d5e-9054-9c0139db04f3"
      },
      "execution_count": null,
      "outputs": [
        {
          "output_type": "execute_result",
          "data": {
            "text/plain": [
              "array([[446597,     15,      5],\n",
              "       [204134,      5,      3],\n",
              "       [ 25623,      6,      4],\n",
              "       ...,\n",
              "       [ 52088,     60,      5],\n",
              "       [128811,     15,      4],\n",
              "       [370915,      5,      4]], dtype=int32)"
            ]
          },
          "metadata": {},
          "execution_count": 40
        }
      ]
    },
    {
      "cell_type": "code",
      "source": [
        "only_five_2 = fille[fille[:, 2]<=5]\n",
        "only_five_2"
      ],
      "metadata": {
        "colab": {
          "base_uri": "https://localhost:8080/"
        },
        "id": "qCa_mEMJkyFy",
        "outputId": "e80ab17b-438b-475d-daea-700751241782"
      },
      "execution_count": null,
      "outputs": [
        {
          "output_type": "execute_result",
          "data": {
            "text/plain": [
              "array([[446597,     15,      5],\n",
              "       [204134,      5,      3],\n",
              "       [ 25623,      6,      4],\n",
              "       ...,\n",
              "       [ 52088,     60,      5],\n",
              "       [128811,     15,      4],\n",
              "       [370915,      5,      4]], dtype=int32)"
            ]
          },
          "metadata": {},
          "execution_count": 41
        }
      ]
    },
    {
      "cell_type": "markdown",
      "metadata": {
        "id": "HNb0eFvsRsFF"
      },
      "source": [
        "8. Для каждого рецепта посчитайте, сколько в среднем ингредиентов приходится на одну минуту рецепта. Найдите максимальное значение этой величины для всего датасета"
      ]
    },
    {
      "cell_type": "code",
      "source": [],
      "metadata": {
        "id": "pwZToQiYlyrU"
      },
      "execution_count": null,
      "outputs": []
    },
    {
      "cell_type": "code",
      "source": [
        "average_ingredients = fille[:, 2]/fille[:, 1]\n",
        "print(average_ingredients)\n",
        "print(max(average_ingredients))"
      ],
      "metadata": {
        "colab": {
          "base_uri": "https://localhost:8080/"
        },
        "id": "EQHa_gxCk_ED",
        "outputId": "c8e218fe-49da-44e6-af28-f74181f6cb8d"
      },
      "execution_count": null,
      "outputs": [
        {
          "output_type": "stream",
          "name": "stdout",
          "text": [
            "[0.26666667 0.28       0.6        ... 0.23076923 0.8        0.1       ]\n",
            "24.0\n"
          ]
        }
      ]
    },
    {
      "cell_type": "markdown",
      "metadata": {
        "id": "ok-wziOtRsFG"
      },
      "source": [
        "9. Вычислите среднее количество ингредиентов для топ-100 рецептов с наибольшей продолжительностью"
      ]
    },
    {
      "cell_type": "code",
      "source": [
        "sorted_data = fille[fille[:, 1].argsort()[::-1]]\n",
        "top = sorted_data[:100]\n",
        "avg_ingredients = np.average(top[:, 2])\n",
        "print('Ср кол-во ингредиентов для топ-100 рецептов:', avg_ingredients)"
      ],
      "metadata": {
        "colab": {
          "base_uri": "https://localhost:8080/"
        },
        "id": "FKIB5TEmlXm0",
        "outputId": "778fdf82-eac5-4f85-8ac5-63453ae62ae3"
      },
      "execution_count": null,
      "outputs": [
        {
          "output_type": "stream",
          "name": "stdout",
          "text": [
            "Ср кол-во ингредиентов для топ-100 рецептов: 6.61\n"
          ]
        }
      ]
    },
    {
      "cell_type": "markdown",
      "metadata": {
        "id": "euvglEaMRsFG"
      },
      "source": [
        "10. Выберите случайным образом и выведите информацию о 10 различных рецептах"
      ]
    },
    {
      "cell_type": "code",
      "source": [
        "total_recipes = fille.shape[0]\n",
        "random_indices=np.random.choice(total_recipes, size=10, replace=False)\n",
        "random_recipes=fille[random_indices]\n",
        "print('Инфо-я о рандомно выбранных 10 рецетах:')\n",
        "print(random_recipes)"
      ],
      "metadata": {
        "colab": {
          "base_uri": "https://localhost:8080/"
        },
        "id": "hm-NdB-MmOdt",
        "outputId": "5aaa135d-820b-47f3-9b46-b5615ca7f578"
      },
      "execution_count": null,
      "outputs": [
        {
          "output_type": "stream",
          "name": "stdout",
          "text": [
            "Инфо-я о рандомно выбранных 10 рецетах:\n",
            "[[443789     10     15]\n",
            " [157540    248      3]\n",
            " [163800    375      8]\n",
            " [457902     90      8]\n",
            " [107564     29     11]\n",
            " [ 35771    110     14]\n",
            " [311927     10      6]\n",
            " [ 62383     55      9]\n",
            " [237675     45      3]\n",
            " [ 70748    360     10]]\n"
          ]
        }
      ]
    },
    {
      "cell_type": "markdown",
      "metadata": {
        "id": "d8k_Qr0iRsFG"
      },
      "source": [
        "11. Выведите процент рецептов, кол-во ингредиентов в которых меньше среднего."
      ]
    },
    {
      "cell_type": "code",
      "source": [
        "!!!len(np.where(fille[:, 2]<fille[:, 2]. mean()))/fille.shape[0]*100"
      ],
      "metadata": {
        "colab": {
          "base_uri": "https://localhost:8080/"
        },
        "id": "5owTOH1CnHjw",
        "outputId": "0b8ee748-e088-4a7e-e06b-35678bfb4ad9"
      },
      "execution_count": null,
      "outputs": [
        {
          "output_type": "execute_result",
          "data": {
            "text/plain": [
              "[\"/bin/bash: -c: line 1: syntax error near unexpected token `np.where'\",\n",
              " \"/bin/bash: -c: line 1: `!len(np.where(fille[:, 2]<fille[:, 2]. mean()))/fille.shape[0]*100'\"]"
            ]
          },
          "metadata": {},
          "execution_count": 52
        }
      ]
    },
    {
      "cell_type": "markdown",
      "metadata": {
        "id": "QHyM3BioRsFG"
      },
      "source": [
        "12. Назовем \"простым\" такой рецепт, длительность выполнения которого не больше 20 минут и кол-во ингредиентов в котором не больше 5. Создайте версию датасета с дополнительным столбцом, значениями которого являются 1, если рецепт простой, и 0 в противном случае."
      ]
    },
    {
      "cell_type": "code",
      "source": [
        "gr = np.zeros((fille.shape[0], 4), dtype=int)"
      ],
      "metadata": {
        "id": "1fFkCQtrnu_a"
      },
      "execution_count": null,
      "outputs": []
    },
    {
      "cell_type": "markdown",
      "metadata": {
        "id": "CxjBxI-qRsFG"
      },
      "source": [
        "13. Выведите процент \"простых\" рецептов в датасете"
      ]
    },
    {
      "cell_type": "code",
      "source": [
        "str(sum(good_recepts[:, 3])/data.shape[0]*100)+'%'"
      ],
      "metadata": {
        "id": "FjLqRgWoduGM"
      },
      "execution_count": null,
      "outputs": []
    },
    {
      "cell_type": "markdown",
      "metadata": {
        "id": "b0-incd9RsFG"
      },
      "source": [
        "14. Разделим рецепты на группы по следующему правилу. Назовем рецепты короткими, если их продолжительность составляет менее 10 минут; стандартными, если их продолжительность составляет более 10, но менее 20 минут; и длинными, если их продолжительность составляет не менее 20 минут. Создайте трехмерный массив, где нулевая ось отвечает за номер группы (короткий, стандартный или длинный рецепт), первая ось - за сам рецепт и вторая ось - за характеристики рецепта. Выберите максимальное количество рецептов из каждой группы таким образом, чтобы было возможно сформировать трехмерный массив. Выведите форму полученного массива."
      ]
    },
    {
      "cell_type": "code",
      "execution_count": null,
      "metadata": {
        "id": "tqv8PgYQRsFH"
      },
      "outputs": [],
      "source": []
    }
  ],
  "metadata": {
    "kernelspec": {
      "display_name": "Python 3 (ipykernel)",
      "language": "python",
      "name": "python3"
    },
    "language_info": {
      "codemirror_mode": {
        "name": "ipython",
        "version": 3
      },
      "file_extension": ".py",
      "mimetype": "text/x-python",
      "name": "python",
      "nbconvert_exporter": "python",
      "pygments_lexer": "ipython3",
      "version": "3.9.12"
    },
    "colab": {
      "provenance": []
    }
  },
  "nbformat": 4,
  "nbformat_minor": 0
}